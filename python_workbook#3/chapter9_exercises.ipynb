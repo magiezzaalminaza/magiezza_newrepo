{
  "nbformat": 4,
  "nbformat_minor": 0,
  "metadata": {
    "colab": {
      "provenance": []
    },
    "kernelspec": {
      "name": "python3",
      "display_name": "Python 3"
    },
    "language_info": {
      "name": "python"
    }
  },
  "cells": [
    {
      "cell_type": "markdown",
      "metadata": {
        "id": "X74TtLy2JJZS"
      },
      "source": [
        "<a id='chapter9'></a>\n",
        "\n",
        "# CHAPTER  9 - Dictionaries"
      ]
    },
    {
      "cell_type": "markdown",
      "metadata": {
        "id": "aVeeBav7JJZV"
      },
      "source": [
        "#### Exercise 1\n",
        "\n",
        "Create a dictionary with the following keys and values showing a partial list of Real GDP growth in Annual percent change from IMF (Source: http://www.imf.org/external/datamapper/NGDP_RPCH@WEO/OEMDC/ADVEC/WEOWORLD)\n",
        "\n",
        "    China 6.5\n",
        "    Japan 0.7\n",
        "    Philippines 6.7\n",
        "    United States 2.3\n",
        "    "
      ]
    },
    {
      "cell_type": "code",
      "source": [
        "{'China': 6.5, 'Japan': 0.7, 'Philippines': 6.7, 'United States': 2.3}"
      ],
      "metadata": {
        "colab": {
          "base_uri": "https://localhost:8080/"
        },
        "id": "h9Vj6JQ-Z0Bm",
        "outputId": "9ecdabc7-d27b-4c6a-96c5-a168adf0445c"
      },
      "execution_count": null,
      "outputs": [
        {
          "output_type": "execute_result",
          "data": {
            "text/plain": [
              "{'China': 6.5, 'Japan': 0.7, 'Philippines': 6.7, 'United States': 2.3}"
            ]
          },
          "metadata": {},
          "execution_count": 3
        }
      ]
    },
    {
      "cell_type": "markdown",
      "metadata": {
        "id": "vcqAhR-WJJZV"
      },
      "source": [
        "#### Exercise 2\n",
        "\n",
        "```Display all the keys and values from the dictionary you created above```\n"
      ]
    },
    {
      "cell_type": "code",
      "source": [
        "gdp_growth = {\n",
        "    \"China\": 6.5,\n",
        "    \"Japan\": 0.7,\n",
        "    \"Philippines\": 6.7,\n",
        "    \"United States\": 2.3\n",
        "}\n",
        "\n",
        "for country, growth in gdp_growth.items():\n",
        "    print(country, growth)"
      ],
      "metadata": {
        "colab": {
          "base_uri": "https://localhost:8080/"
        },
        "id": "wYWnN8R9bNFP",
        "outputId": "db8decca-e170-4235-9d27-35e8c61aff34"
      },
      "execution_count": null,
      "outputs": [
        {
          "output_type": "stream",
          "name": "stdout",
          "text": [
            "China 6.5\n",
            "Japan 0.7\n",
            "Philippines 6.7\n",
            "United States 2.3\n"
          ]
        }
      ]
    },
    {
      "cell_type": "markdown",
      "metadata": {
        "id": "3WvuvkGRJJZV"
      },
      "source": [
        "#### Exercise 3\n",
        "\n",
        "Write a program that asks the user to enter a line of text and then counts the number of each word that appeared in the line of text.\n",
        "Use the string function `split()` to make a list of words from a given string\n",
        "e.g.:\n",
        "\n",
        "```python\n",
        "word_list = line.split()\n",
        "```\n",
        "\n",
        "will return a list of words from the string `line` and store it in the variable `word_list`.\n",
        "\n",
        "\n",
        "(Adapted from [PES])"
      ]
    },
    {
      "cell_type": "code",
      "source": [
        "line = input(\"Enter a line of text: \")\n",
        "\n",
        "word_list = line.split()\n",
        "word_counts = {}\n",
        "\n",
        "for word in word_list:\n",
        "    if word in word_counts:\n",
        "        word_counts[word] += 1\n",
        "    else:\n",
        "        word_counts[word] = 1\n",
        "\n",
        "print(\"Word counts:\")\n",
        "for word, count in word_counts.items():\n",
        "    print(f\"{word}: {count}\")"
      ],
      "metadata": {
        "colab": {
          "base_uri": "https://localhost:8080/"
        },
        "id": "jsWVrLPBbnMx",
        "outputId": "ad003208-74fc-4e9c-8395-ef573cca719e"
      },
      "execution_count": null,
      "outputs": [
        {
          "output_type": "stream",
          "name": "stdout",
          "text": [
            "Enter a line of text: 3\n",
            "Word counts:\n",
            "3: 1\n"
          ]
        }
      ]
    }
  ]
}