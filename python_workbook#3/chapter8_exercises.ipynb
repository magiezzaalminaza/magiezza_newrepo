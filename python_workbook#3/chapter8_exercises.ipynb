{
  "nbformat": 4,
  "nbformat_minor": 0,
  "metadata": {
    "colab": {
      "provenance": []
    },
    "kernelspec": {
      "name": "python3",
      "display_name": "Python 3"
    },
    "language_info": {
      "name": "python"
    }
  },
  "cells": [
    {
      "cell_type": "markdown",
      "metadata": {
        "id": "TQ9Lh-K7JJZD"
      },
      "source": [
        "<a id='chapter8'></a>\n",
        "\n",
        "# CHAPTER  8 - Lists"
      ]
    },
    {
      "cell_type": "markdown",
      "metadata": {
        "id": "0xNoziZbJJZR"
      },
      "source": [
        "#### Exercise 1\n",
        "\n",
        "Create an empty list then add the following numbers using `append`: 4, 6 9."
      ]
    },
    {
      "cell_type": "code",
      "source": [
        "my_list = []\n",
        "my_list.append(4)\n",
        "my_list.append(6)\n",
        "my_list.append(9)\n",
        "print(my_list)"
      ],
      "metadata": {
        "colab": {
          "base_uri": "https://localhost:8080/"
        },
        "id": "y1CBdyEbUtZ5",
        "outputId": "abfc3ee4-c515-45ef-edd8-b32da6b03745"
      },
      "execution_count": null,
      "outputs": [
        {
          "output_type": "stream",
          "name": "stdout",
          "text": [
            "[4, 6, 9]\n"
          ]
        }
      ]
    },
    {
      "cell_type": "markdown",
      "metadata": {
        "id": "SLLtxugSJJZR"
      },
      "source": [
        "#### Exercise 2\n",
        "\n",
        "Using the `range` function, create a list containing the numbers from 0 to 10."
      ]
    },
    {
      "cell_type": "code",
      "source": [
        "my_list = list(range(11))\n",
        "print(my_list)"
      ],
      "metadata": {
        "colab": {
          "base_uri": "https://localhost:8080/"
        },
        "id": "b2WRgB6qVAr4",
        "outputId": "28d13ec7-c3f1-4d95-9df0-8f3b866c6d6d"
      },
      "execution_count": null,
      "outputs": [
        {
          "output_type": "stream",
          "name": "stdout",
          "text": [
            "[0, 1, 2, 3, 4, 5, 6, 7, 8, 9, 10]\n"
          ]
        }
      ]
    },
    {
      "cell_type": "markdown",
      "metadata": {
        "id": "JrLmeI7ZJJZR"
      },
      "source": [
        "#### Exercise 3\n",
        "\n",
        "Create a list containing the valid grade values, then using `enumerate` in a `for` loop, print out all **indices** and **items** in the list.\n",
        "\n",
        "It should print out:\n",
        "\n",
        "    0   1.0\n",
        "    1   1.25\n",
        "    2   1.5\n",
        "    3   1.75\n",
        "    4   2.0\n",
        "    5   2.25\n",
        "    6   2.5\n",
        "    7   3.0\n",
        "      "
      ]
    },
    {
      "cell_type": "code",
      "source": [
        "grade_values = [1.0, 1.25, 1.5, 1.75, 2.0, 2.25, 2.5, 3.0]\n",
        "\n",
        "for i, grade in enumerate(grade_values):\n",
        "    print(i, grade)"
      ],
      "metadata": {
        "colab": {
          "base_uri": "https://localhost:8080/"
        },
        "id": "l1t5B91qVM4c",
        "outputId": "1c2b362a-b9ec-49fb-baf8-1ca3c3941a9a"
      },
      "execution_count": null,
      "outputs": [
        {
          "output_type": "stream",
          "name": "stdout",
          "text": [
            "0 1.0\n",
            "1 1.25\n",
            "2 1.5\n",
            "3 1.75\n",
            "4 2.0\n",
            "5 2.25\n",
            "6 2.5\n",
            "7 3.0\n"
          ]
        }
      ]
    },
    {
      "cell_type": "markdown",
      "metadata": {
        "id": "5GoizMtYJJZR"
      },
      "source": [
        "#### Exercise 4\n",
        "\n",
        "Using Index Slicing, print out the list of grades higher than 2.0"
      ]
    },
    {
      "cell_type": "code",
      "source": [
        "grade_values = [1.0, 1.25, 1.5, 1.75, 2.0, 2.25, 2.5, 3.0]\n",
        "if any(grade > 2.0 for grade in grade_values):\n",
        "    print(grade_values[grade_values.index(2.0):])\n",
        "else:\n",
        "    print(\"There are no grades higher than 2.0 in the list.\")"
      ],
      "metadata": {
        "colab": {
          "base_uri": "https://localhost:8080/"
        },
        "id": "PEeh1guxVi-G",
        "outputId": "6bdf39ec-abf2-4d6e-92ea-31c5f8d88d2d"
      },
      "execution_count": null,
      "outputs": [
        {
          "output_type": "stream",
          "name": "stdout",
          "text": [
            "[2.0, 2.25, 2.5, 3.0]\n"
          ]
        }
      ]
    },
    {
      "cell_type": "markdown",
      "metadata": {
        "id": "Vm8um2lmJJZR"
      },
      "source": [
        "#### Exercise 5\n",
        "\n",
        "Using Index Slicing, print out the list of grades better than 2.0.\n"
      ]
    },
    {
      "cell_type": "code",
      "source": [
        "grades = [1.0, 1.25, 1.5, 1.75, 2.0, 2.25, 2.5, 3.0]\n",
        "better_grades = grades[grades.index(2.0)+1:]\n",
        "print(better_grades)"
      ],
      "metadata": {
        "colab": {
          "base_uri": "https://localhost:8080/"
        },
        "id": "H4dWH9AUVvrk",
        "outputId": "9aaa05bf-a373-468a-a2d6-9dc990b2027b"
      },
      "execution_count": null,
      "outputs": [
        {
          "output_type": "stream",
          "name": "stdout",
          "text": [
            "[2.25, 2.5, 3.0]\n"
          ]
        }
      ]
    },
    {
      "cell_type": "markdown",
      "metadata": {
        "id": "nynsWrgVJJZR"
      },
      "source": [
        "#### Exercise 6\n",
        "\n",
        "Using Index Slicing, print out the grades 2.0,2.25,2.5."
      ]
    },
    {
      "cell_type": "code",
      "source": [
        "grades = [1.0, 1.25, 1.5, 1.75, 2.0, 2.25, 2.5, 3.0]\n",
        "selected_grades = grades[grades.index(2.0):grades.index(3.0)]\n",
        "print(selected_grades)"
      ],
      "metadata": {
        "colab": {
          "base_uri": "https://localhost:8080/"
        },
        "id": "T9qkFwioV6TU",
        "outputId": "b9cd8fb2-b91a-4729-e5d9-6cb4fa0697d1"
      },
      "execution_count": null,
      "outputs": [
        {
          "output_type": "stream",
          "name": "stdout",
          "text": [
            "[2.0, 2.25, 2.5]\n"
          ]
        }
      ]
    },
    {
      "cell_type": "markdown",
      "metadata": {
        "id": "nTBq1achJJZR"
      },
      "source": [
        "## CHALLENGE\n",
        "\n",
        "Modify the code in the subheading [Parsing Lines](#ParsingLines) to display all the time stamps\n",
        "of the emails in mboxt-short.txt\n"
      ]
    },
    {
      "cell_type": "code",
      "source": [],
      "metadata": {
        "id": "kYUuwPoMYDNp"
      },
      "execution_count": null,
      "outputs": []
    }
  ]
}