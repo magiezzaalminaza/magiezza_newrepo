{
  "nbformat": 4,
  "nbformat_minor": 0,
  "metadata": {
    "colab": {
      "provenance": []
    },
    "kernelspec": {
      "name": "python3",
      "display_name": "Python 3"
    },
    "language_info": {
      "name": "python"
    }
  },
  "cells": [
    {
      "cell_type": "markdown",
      "metadata": {
        "id": "TO_IkzktJJZV"
      },
      "source": [
        "<a id='chapter10'></a>\n",
        "\n",
        "# CHAPTER 10 - Tuples"
      ]
    },
    {
      "cell_type": "markdown",
      "metadata": {
        "id": "Aant2-APJJZd"
      },
      "source": [
        "#### Exercise 1\n",
        "\n",
        "Create a tuple with the following items: `1, 1, 2, 3, 5`. Feed the tuple to the `sum()` built-in function and check the result.\n"
      ]
    },
    {
      "cell_type": "code",
      "source": [
        "t = (1, 1, 2, 3, 5)\n",
        "result = sum(t)\n",
        "print(result)"
      ],
      "metadata": {
        "colab": {
          "base_uri": "https://localhost:8080/"
        },
        "id": "n27RmGGSdKJf",
        "outputId": "bdbaddd5-7155-4e8e-d03b-054b91c2bba6"
      },
      "execution_count": null,
      "outputs": [
        {
          "output_type": "stream",
          "name": "stdout",
          "text": [
            "12\n"
          ]
        }
      ]
    },
    {
      "cell_type": "markdown",
      "metadata": {
        "id": "dwn-ktxwJJZd"
      },
      "source": [
        "#### Exercise 2\n",
        "\n",
        "Unpack the following tuple into meaningful variables and display them\n",
        "\n",
        "```python\n",
        "ph_info = ('Philippines', 'Manila', 103.3) # The last number is the Population in Millions as of 2016\n",
        "```\n"
      ]
    },
    {
      "cell_type": "code",
      "source": [
        "ph_info = ('Philippines', 'Manila', 103.3)\n",
        "country, city, population = ph_info\n",
        "print(f\"Country: {country}\")\n",
        "print(f\"City: {city}\")\n",
        "print(f\"Population (in millions): {population}\")"
      ],
      "metadata": {
        "colab": {
          "base_uri": "https://localhost:8080/"
        },
        "id": "_PuJHpCLdkTD",
        "outputId": "ab762b7c-4afa-41f2-9605-cae237dca942"
      },
      "execution_count": null,
      "outputs": [
        {
          "output_type": "stream",
          "name": "stdout",
          "text": [
            "Country: Philippines\n",
            "City: Manila\n",
            "Population (in millions): 103.3\n"
          ]
        }
      ]
    }
  ]
}