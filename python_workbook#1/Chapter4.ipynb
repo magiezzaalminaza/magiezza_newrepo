{
  "nbformat": 4,
  "nbformat_minor": 0,
  "metadata": {
    "colab": {
      "provenance": []
    },
    "kernelspec": {
      "name": "python3",
      "display_name": "Python 3"
    },
    "language_info": {
      "name": "python"
    }
  },
  "cells": [
    {
      "cell_type": "markdown",
      "metadata": {
        "id": "mHe5P4UtaImu"
      },
      "source": [
        "#### Exercise 1"
      ]
    },
    {
      "cell_type": "markdown",
      "metadata": {
        "id": "1oGb4zXhaImu"
      },
      "source": [
        "Rewrite your pay computation with time-and-a-half for overtime and create a function called compute pay which takes two parameters (hours and rate).\n",
        "\n",
        "    Enter Hours: 45\n",
        "    Enter Rate: 10\n",
        "    Pay: 475.0\n",
        "    \n",
        "[PEW] E4.6"
      ]
    },
    {
      "cell_type": "code",
      "source": [
        "def compute_pay(hours, rate):\n",
        "    if hours <= 40:\n",
        "        pay = hours * rate\n",
        "    else:\n",
        "        regular_pay = 40 * rate\n",
        "        overtime_pay = (hours - 40) * (rate * 1.5)\n",
        "        pay = regular_pay + overtime_pay\n",
        "    return pay\n",
        "\n",
        "hours_worked = float(input(\"Enter hours worked: \"))\n",
        "hourly_rate = float(input(\"Enter hourly rate: \"))\n",
        "\n",
        "total_pay = compute_pay(hours_worked, hourly_rate)\n",
        "print(\"Total pay:\", total_pay)\n"
      ],
      "metadata": {
        "colab": {
          "base_uri": "https://localhost:8080/"
        },
        "id": "ptmIyZ7G_UXd",
        "outputId": "0befae75-3c55-41f8-b9e5-a51f2640040b"
      },
      "execution_count": null,
      "outputs": [
        {
          "output_type": "stream",
          "name": "stdout",
          "text": [
            "Enter hours worked: 45\n",
            "Enter hourly rate: 10\n",
            "Total pay: 475.0\n"
          ]
        }
      ]
    },
    {
      "cell_type": "markdown",
      "metadata": {
        "id": "jXP4Hn0laImu"
      },
      "source": [
        "## CHALLENGE"
      ]
    },
    {
      "cell_type": "code",
      "source": [
        "def computegrade(score):\n",
        "    if score >= 97:\n",
        "        grade = '1.0'\n",
        "    elif score >= 93:\n",
        "        grade = '1.25'\n",
        "    elif score >= 89:\n",
        "        grade = '1.5'\n",
        "    elif score >= 85:\n",
        "        grade = '1.75'\n",
        "    elif score >= 81:\n",
        "        grade = '2.0'\n",
        "    elif score >= 77:\n",
        "        grade = '2.25'\n",
        "    elif score >= 74:\n",
        "        grade = '2.5'\n",
        "    else:\n",
        "        grade = '3.0'\n",
        "    return grade\n",
        "\n",
        "score = float(input(\"Enter score: \"))\n",
        "grade = computegrade(score)\n",
        "print(\"Grade:\", grade)\n"
      ],
      "metadata": {
        "colab": {
          "base_uri": "https://localhost:8080/"
        },
        "id": "_ICGvJkYH7hy",
        "outputId": "63195794-aeb3-43c2-b0d1-a434231e27eb"
      },
      "execution_count": null,
      "outputs": [
        {
          "output_type": "stream",
          "name": "stdout",
          "text": [
            "Enter score: 34\n",
            "Grade: 3.0\n"
          ]
        }
      ]
    }
  ]
}