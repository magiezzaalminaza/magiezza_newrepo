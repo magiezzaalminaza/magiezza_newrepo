{
  "nbformat": 4,
  "nbformat_minor": 0,
  "metadata": {
    "colab": {
      "provenance": []
    },
    "kernelspec": {
      "name": "python3",
      "display_name": "Python 3"
    },
    "language_info": {
      "name": "python"
    }
  },
  "cells": [
    {
      "cell_type": "markdown",
      "metadata": {
        "id": "wvMVk9_1aImu"
      },
      "source": [
        "# CHAPTER  5 - ITERATIONS"
      ]
    },
    {
      "cell_type": "markdown",
      "metadata": {
        "id": "fFOeGpVPaImx"
      },
      "source": [
        "## EXERCISES"
      ]
    },
    {
      "cell_type": "markdown",
      "metadata": {
        "id": "GCqXn57HaImx"
      },
      "source": [
        "Investigate on the difference between `is` and `==` given the following variables.\n",
        "```python\n",
        "a = 2\n",
        "b = 2.0\n",
        "c = a\n",
        "```"
      ]
    },
    {
      "cell_type": "code",
      "source": [
        "a = 2 #a == b → True: 2 (integer) is equal to 2.0 (float) in value, even though they are different types (int and float).\n",
        "b = 2.0 #a is b → False: Although they have the same value, a and b are different objects in memory. a is an integer and b is a float, stored differently in memory.\n",
        "c = a #a == c → True: Since c was assigned the value of a, they are identical in value."
      ],
      "metadata": {
        "id": "5skXXLAYLMZL"
      },
      "execution_count": null,
      "outputs": []
    },
    {
      "cell_type": "markdown",
      "metadata": {
        "id": "lzGh2jsGaImy"
      },
      "source": [
        "## CHALLENGES"
      ]
    },
    {
      "cell_type": "markdown",
      "metadata": {
        "id": "GoFwnubcaImy"
      },
      "source": [
        "#### Challenge 1"
      ]
    },
    {
      "cell_type": "markdown",
      "metadata": {
        "id": "4tHwcuWKaImy"
      },
      "source": [
        "Write a program which repeatedly reads numbers until the user enters \"done\". Once \"done\" is entered, print out the total, count, and average of the numbers. If the user enters anything other than a number, detect their mistake using try and except and print an error message and skip to the next number.\n",
        "\n",
        "    Enter a number: 4\n",
        "    Enter a number: 5\n",
        "    Enter a number: bad data\n",
        "    Invalid input\n",
        "    Enter a number: 7\n",
        "    Enter a number: done\n",
        "    16 3 5.333333333333333\n",
        "    \n",
        "[PEW] E5.1"
      ]
    },
    {
      "cell_type": "code",
      "source": [
        "total = 0\n",
        "count = 0\n",
        "\n",
        "while True:\n",
        "    num = input(\"Enter a number: \")\n",
        "\n",
        "    if num == \"done\":\n",
        "        break\n",
        "\n",
        "    try:\n",
        "        num_float = float(num)\n",
        "    except:\n",
        "        print(\"Invalid input\")\n",
        "        continue\n",
        "\n",
        "    total += num_float\n",
        "    count += 1\n",
        "\n",
        "if count != 0:\n",
        "    average = total / count\n",
        "    print(f\"Total: {total}, Count: {count}, Average: {average}\")\n",
        "else:\n",
        "    print(\"No valid numbers were entered.\")"
      ],
      "metadata": {
        "colab": {
          "base_uri": "https://localhost:8080/"
        },
        "id": "Ldjem5T4MngD",
        "outputId": "58bab763-9315-42fa-bc30-681676e17aa6"
      },
      "execution_count": 3,
      "outputs": [
        {
          "output_type": "stream",
          "name": "stdout",
          "text": [
            "Enter a number: 4\n",
            "Enter a number: 5\n",
            "Enter a number: bad data\n",
            "Invalid input\n",
            "Enter a number: 7\n",
            "Enter a number: done\n",
            "Total: 16.0, Count: 3, Average: 5.333333333333333\n"
          ]
        }
      ]
    },
    {
      "cell_type": "markdown",
      "metadata": {
        "id": "Zuj2l-WyaImy"
      },
      "source": [
        "#### Challenge 2  "
      ]
    },
    {
      "cell_type": "markdown",
      "metadata": {
        "id": "VquC1eSXaImy"
      },
      "source": [
        "Write another program that prompts for a list of numbers as above and at the end prints out both the maximum and minimum of the numbers instead of the average.\n",
        "\n",
        "[PEW] E5.2"
      ]
    },
    {
      "cell_type": "code",
      "source": [
        "total = None\n",
        "count = 0\n",
        "minimum = None\n",
        "maximum = None\n",
        "\n",
        "while True:\n",
        "    num = input(\"Enter a number: \")\n",
        "\n",
        "    if num == \"done\":\n",
        "        break\n",
        "\n",
        "    try:\n",
        "        num_float = float(num)\n",
        "    except:\n",
        "        print(\"Invalid input\")\n",
        "        continue\n",
        "\n",
        "    if total is None:\n",
        "        total = num_float\n",
        "    else:\n",
        "        total += num_float\n",
        "\n",
        "    count += 1\n",
        "\n",
        "    if minimum is None or num_float < minimum:\n",
        "        minimum = num_float\n",
        "\n",
        "    if maximum is None or num_float > maximum:\n",
        "        maximum = num_float\n",
        "\n",
        "if count != 0:\n",
        "    print(f\"Total: {total}, Count: {count}, Minimum: {minimum}, Maximum: {maximum}\")\n",
        "else:\n",
        "    print(\"No valid numbers were entered.\")"
      ],
      "metadata": {
        "id": "jjzNxey_NvrW"
      },
      "execution_count": null,
      "outputs": []
    }
  ]
}