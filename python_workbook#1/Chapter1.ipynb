{
  "nbformat": 4,
  "nbformat_minor": 0,
  "metadata": {
    "colab": {
      "provenance": []
    },
    "kernelspec": {
      "name": "python3",
      "display_name": "Python 3"
    },
    "language_info": {
      "name": "python"
    }
  },
  "cells": [
    {
      "cell_type": "code",
      "source": [
        "from google.colab import drive\n",
        "\n",
        "drive.mount('/content/drive')"
      ],
      "metadata": {
        "colab": {
          "base_uri": "https://localhost:8080/"
        },
        "id": "4TXga6Osa0SM",
        "outputId": "70325b43-dd2e-4750-8dbf-c97cd43cd258"
      },
      "execution_count": null,
      "outputs": [
        {
          "output_type": "stream",
          "name": "stdout",
          "text": [
            "Drive already mounted at /content/drive; to attempt to forcibly remount, call drive.mount(\"/content/drive\", force_remount=True).\n"
          ]
        }
      ]
    },
    {
      "cell_type": "markdown",
      "source": [],
      "metadata": {
        "id": "kPOP3rmw3-aX"
      }
    },
    {
      "cell_type": "markdown",
      "metadata": {
        "id": "mBPvdC7JaImW"
      },
      "source": [
        "#### Exercise 1\n",
        "\n",
        "Each line of code below contains an **error**. Fix the error and explain in a comment the reason for the error."
      ]
    },
    {
      "cell_type": "code",
      "execution_count": null,
      "metadata": {
        "id": "bpLylacdaImW",
        "outputId": "8d35880a-e33c-44b3-9a3a-7050869fadcd",
        "colab": {
          "base_uri": "https://localhost:8080/"
        }
      },
      "outputs": [
        {
          "output_type": "stream",
          "name": "stdout",
          "text": [
            "Hello world!\n"
          ]
        }
      ],
      "source": [
        "print('Hello world!')\n",
        "\n",
        "#no open parenthesis"
      ]
    },
    {
      "cell_type": "code",
      "execution_count": null,
      "metadata": {
        "id": "gN9Uw8rxaImW",
        "outputId": "c4f8acb2-4845-43d1-ec3c-680f6462f234",
        "colab": {
          "base_uri": "https://localhost:8080/"
        }
      },
      "outputs": [
        {
          "output_type": "stream",
          "name": "stdout",
          "text": [
            "Hello world!\n"
          ]
        }
      ],
      "source": [
        "print('Hello world!')\n",
        "#no  apostrophe"
      ]
    },
    {
      "cell_type": "code",
      "execution_count": null,
      "metadata": {
        "id": "XrkQdLBeaImX",
        "outputId": "3f6cf202-1b1b-464b-dde3-95cd92a232eb",
        "colab": {
          "base_uri": "https://localhost:8080/"
        }
      },
      "outputs": [
        {
          "output_type": "stream",
          "name": "stdout",
          "text": [
            "Hello world!\n"
          ]
        }
      ],
      "source": [
        "print('Hello world!')\n",
        "#double apostrophe"
      ]
    },
    {
      "cell_type": "code",
      "execution_count": null,
      "metadata": {
        "id": "4SyXWVFsaImX",
        "outputId": "8992d1b2-fe19-4728-f3f3-3448532ee61f",
        "colab": {
          "base_uri": "https://localhost:8080/"
        }
      },
      "outputs": [
        {
          "output_type": "stream",
          "name": "stdout",
          "text": [
            "44\n"
          ]
        }
      ],
      "source": [
        "x = 43\n",
        "x = x + 1\n",
        "print(x)"
      ]
    },
    {
      "cell_type": "markdown",
      "source": [],
      "metadata": {
        "id": "qflMb6v-4b1_"
      }
    },
    {
      "cell_type": "markdown",
      "metadata": {
        "id": "iui6egW8aImX"
      },
      "source": [
        "#### Exercise 2\n",
        "What is the output of the code below? [PEW]"
      ]
    },
    {
      "cell_type": "code",
      "execution_count": null,
      "metadata": {
        "outputId": "8992d1b2-fe19-4728-f3f3-3448532ee61f",
        "colab": {
          "base_uri": "https://localhost:8080/"
        },
        "id": "NBMb3kzJ4iRb"
      },
      "outputs": [
        {
          "output_type": "stream",
          "name": "stdout",
          "text": [
            "44\n"
          ]
        }
      ],
      "source": [
        "x = 43\n",
        "x = x + 1\n",
        "print(x)"
      ]
    },
    {
      "cell_type": "markdown",
      "source": [],
      "metadata": {
        "id": "C_XkT1i74kGG"
      }
    },
    {
      "cell_type": "markdown",
      "metadata": {
        "id": "_i_GK59PaImX"
      },
      "source": [
        "#### Exercise 3\n",
        "The code below contains an error. Fix the error and explain in a comment the reason for the error."
      ]
    },
    {
      "cell_type": "code",
      "execution_count": null,
      "metadata": {
        "id": "hDxapCbeaImX",
        "outputId": "080a3e27-0c55-41a5-8bdf-f629755b6ae4",
        "colab": {
          "base_uri": "https://localhost:8080/"
        }
      },
      "outputs": [
        {
          "output_type": "stream",
          "name": "stdout",
          "text": [
            "44\n"
          ]
        }
      ],
      "source": [
        "x = 43\n",
        "x = x + 1\n",
        "print(x)\n",
        "# it should be small letter"
      ]
    }
  ]
}