{
  "nbformat": 4,
  "nbformat_minor": 0,
  "metadata": {
    "colab": {
      "provenance": []
    },
    "kernelspec": {
      "name": "python3",
      "display_name": "Python 3"
    },
    "language_info": {
      "name": "python"
    }
  },
  "cells": [
    {
      "cell_type": "markdown",
      "metadata": {
        "id": "wEBVE3bRaIml"
      },
      "source": [
        "# CHAPTER 3 - Conditional Execution"
      ]
    },
    {
      "cell_type": "markdown",
      "metadata": {
        "id": "5QAeUn6eaImp"
      },
      "source": [
        "## EXERCISES"
      ]
    },
    {
      "cell_type": "markdown",
      "metadata": {
        "id": "fg8bE3FqaImp"
      },
      "source": [
        "#### Exercise 1\n",
        "In the code below, which will never print regardless of the value for x? Edit the code to correct the error."
      ]
    },
    {
      "cell_type": "code",
      "source": [
        "x = 0; ## the value of x is 0 so it will print the Something else\n",
        "if x > 0 :\n",
        "    print('Above 0')\n",
        "elif x >  10 :\n",
        "    print('Above 10')\n",
        "elif x > 50 :\n",
        "    print('Above 50')\n",
        "elif x >  20 :\n",
        "    print('Above 20')\n",
        "else :\n",
        "    print('Something else')"
      ],
      "metadata": {
        "colab": {
          "base_uri": "https://localhost:8080/"
        },
        "id": "AvZdaPRp7IcI",
        "outputId": "1b2d57f5-3862-457c-8b55-1bf1207892a4"
      },
      "execution_count": null,
      "outputs": [
        {
          "output_type": "stream",
          "name": "stdout",
          "text": [
            "Something else\n"
          ]
        }
      ]
    },
    {
      "cell_type": "markdown",
      "metadata": {
        "id": "VWiYp2UzaImq"
      },
      "source": [
        "#### Exercise 2\n",
        "Write your salary computation to give an employee 1.5 times the hourly rate for hours worked above 40 hours. Example:"
      ]
    },
    {
      "cell_type": "code",
      "source": [
        "hours = float(input(\"Enter Hours: \"))\n",
        "rate = float(input(\"Enter Rate: \"))\n",
        "\n",
        "if hours <= 40:\n",
        "    gross_pay = hours * rate\n",
        "else:\n",
        "    regular_pay = 40 * rate\n",
        "    overtime_pay = (hours - 40) * (rate * 1.5)\n",
        "    gross_pay = regular_pay + overtime_pay\n",
        "\n",
        "print(\"Pay: \", gross_pay)\n"
      ],
      "metadata": {
        "colab": {
          "base_uri": "https://localhost:8080/"
        },
        "id": "Cx_5SoIQ_E-Z",
        "outputId": "17cb510e-3419-4935-e5ac-db59093ad117"
      },
      "execution_count": null,
      "outputs": [
        {
          "output_type": "stream",
          "name": "stdout",
          "text": [
            "Enter Hours: 10\n",
            "Enter Rate: 40\n",
            "Pay:  400.0\n"
          ]
        }
      ]
    },
    {
      "cell_type": "markdown",
      "metadata": {
        "id": "BOOafzopaImq"
      },
      "source": [
        "## CHALLENGE"
      ]
    },
    {
      "cell_type": "markdown",
      "metadata": {
        "id": "xWMxHjrHaImq"
      },
      "source": [
        "Write a program to prompt for a score between 0 and 100 and print a grade using the following table:\n",
        "\n",
        "    Score           Grade\n",
        "    [ 97, 100]      1.0\n",
        "    [ 93,  97)\t\t1.25\n",
        "    [ 89,  93)\t\t1.5\n",
        "    [ 85,  89)\t\t1.75\n",
        "    [ 81,  85)\t\t2.0\n",
        "    [ 77,  81)\t\t2.25\n",
        "    [ 74,  77)\t\t2.5\n",
        "    [ 0,   74)\t\t3.0\n",
        "\n",
        "Adapted from [PEW] E3.3\n",
        "<br>"
      ]
    },
    {
      "cell_type": "code",
      "source": [
        "score = int(input(\"Enter score: \"))\n",
        "if score >= 97 and score <= 100 :\n",
        "  print(\"1.0\")\n",
        "elif score >= 93 and score < 97 :\n",
        "    print(\"1.5\")\n",
        "elif score >= 89 and score < 93:\n",
        "    print(\"1.25\")\n",
        "elif score >= 85 and score < 89:\n",
        "  print(\"1.75\")\n",
        "elif score >= 81 and score < 85:\n",
        "  print(\"2.0\")\n",
        "elif score >= 77 and score < 81:\n",
        "  print(\"2.25\")\n",
        "elif score >= 74 and score < 77:\n",
        "  print(\"2.5\")\n",
        "elif score >= 0 and score < 74:\n",
        "  print(\"3.0\")\n",
        "else:\n",
        "    print(\"Not Passed\")\n",
        "    exit()"
      ],
      "metadata": {
        "colab": {
          "base_uri": "https://localhost:8080/"
        },
        "id": "bmDHu0VVErRv",
        "outputId": "dd3b4cf7-726b-433a-f5ff-e54689d3d334"
      },
      "execution_count": null,
      "outputs": [
        {
          "output_type": "stream",
          "name": "stdout",
          "text": [
            "Enter score: 75\n",
            "2.5\n"
          ]
        }
      ]
    }
  ]
}