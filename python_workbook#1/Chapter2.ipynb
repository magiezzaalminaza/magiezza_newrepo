{
  "nbformat": 4,
  "nbformat_minor": 0,
  "metadata": {
    "colab": {
      "provenance": []
    },
    "kernelspec": {
      "name": "python3",
      "display_name": "Python 3"
    },
    "language_info": {
      "name": "python"
    }
  },
  "cells": [
    {
      "cell_type": "markdown",
      "source": [],
      "metadata": {
        "id": "mqOFcsm9oIp7"
      }
    },
    {
      "cell_type": "code",
      "execution_count": null,
      "metadata": {
        "id": "aa6qqsNwaImZ"
      },
      "outputs": [],
      "source": [
        "class yr:\n",
        "  x = 2021"
      ]
    },
    {
      "cell_type": "code",
      "execution_count": null,
      "metadata": {
        "id": "tVn5TSikaImZ",
        "outputId": "b5e82b19-0150-4d55-d98c-92ed8946ac36",
        "colab": {
          "base_uri": "https://localhost:8080/"
        }
      },
      "outputs": [
        {
          "output_type": "stream",
          "name": "stdout",
          "text": [
            "437.5\n"
          ]
        }
      ],
      "source": [
        "# confusing variable name\n",
        "hour = 35.0\n",
        "rate = 12.50\n",
        "pay = hour * rate\n",
        "print(pay)"
      ]
    },
    {
      "cell_type": "code",
      "execution_count": null,
      "metadata": {
        "id": "w2xz1qICaIma",
        "outputId": "6914042d-4a1f-47a4-c3c2-7547c74615dc"
      },
      "outputs": [
        {
          "name": "stdout",
          "output_type": "stream",
          "text": [
            "437.5\n"
          ]
        }
      ],
      "source": [
        "a = 35.0\n",
        "b = 12.50\n",
        "c = a * b\n",
        "print(c)"
      ]
    },
    {
      "cell_type": "code",
      "execution_count": null,
      "metadata": {
        "id": "tSvuiMDmaIma",
        "outputId": "b1b13b57-1a0e-4b8e-9d68-1b07a264829f"
      },
      "outputs": [
        {
          "name": "stdout",
          "output_type": "stream",
          "text": [
            "437.5\n"
          ]
        }
      ],
      "source": [
        "hours = 35.0\n",
        "rate = 12.50\n",
        "pay = hours * rate\n",
        "print(pay)"
      ]
    },
    {
      "cell_type": "markdown",
      "metadata": {
        "id": "fdNrgq1UaImk"
      },
      "source": [
        "## EXERCISES"
      ]
    },
    {
      "cell_type": "code",
      "source": [
        "name = input(\"Enter Name: \")\n",
        "print(\"hello, \"+ name)"
      ],
      "metadata": {
        "colab": {
          "base_uri": "https://localhost:8080/"
        },
        "id": "tTC4c7H1qy5Q",
        "outputId": "294dc6c6-9c72-44ab-b229-067dee269244"
      },
      "execution_count": null,
      "outputs": [
        {
          "output_type": "stream",
          "name": "stdout",
          "text": [
            "Enter Name: maria\n",
            "hello, maria\n"
          ]
        }
      ]
    },
    {
      "cell_type": "markdown",
      "metadata": {
        "id": "wAR2mk08aImk"
      },
      "source": [
        "#### Exercise 2"
      ]
    },
    {
      "cell_type": "code",
      "source": [
        "hour = float(input(\"Enter Hours: \"))\n",
        "rate = float(input(\"Enter Rate: \"))\n",
        "\n",
        "pay = (hour * rate)\n",
        "print(\"Pay: \", pay)"
      ],
      "metadata": {
        "colab": {
          "base_uri": "https://localhost:8080/"
        },
        "id": "gUCfHMK-r-tn",
        "outputId": "c0fa51b8-0a53-4173-cb18-9437b086daa6"
      },
      "execution_count": null,
      "outputs": [
        {
          "output_type": "stream",
          "name": "stdout",
          "text": [
            "Enter Hours: 35\n",
            "Enter Rate: 2.75\n",
            "Pay:  96.25\n"
          ]
        }
      ]
    },
    {
      "cell_type": "markdown",
      "metadata": {
        "id": "W726DPC1aImk"
      },
      "source": [
        "#### Exercise 3"
      ]
    },
    {
      "cell_type": "code",
      "source": [
        "width = 17\n",
        "height = 12.0\n",
        "\n",
        "print(\"Expression: width//2\")\n",
        "value = width // 2\n",
        "print(\"Value: \", value, \" Type: \", type(value))\n",
        "\n",
        "print(\"Expression: width/2.0\")\n",
        "value = width / 2.0\n",
        "print(\"Value: \", value, \" Type: \", type(value))\n",
        "\n",
        "print(\"Expression: height/3\")\n",
        "value = height / 3\n",
        "print(\"Value: \", value, \" Type: \", type(value))\n",
        "\n",
        "print(\"Expression: 1 + 2 * 5\")\n",
        "value = 1 + 2 * 5\n",
        "print(\"Value: \", value, \" Type: \", type(value))"
      ],
      "metadata": {
        "colab": {
          "base_uri": "https://localhost:8080/"
        },
        "id": "CeJXL-oHwIcn",
        "outputId": "aa120515-9389-4461-eff6-e3e52ed23b19"
      },
      "execution_count": null,
      "outputs": [
        {
          "output_type": "stream",
          "name": "stdout",
          "text": [
            "Expression: width//2\n",
            "Value:  8  Type:  <class 'int'>\n",
            "Expression: width/2.0\n",
            "Value:  8.5  Type:  <class 'float'>\n",
            "Expression: height/3\n",
            "Value:  4.0  Type:  <class 'float'>\n",
            "Expression: 1 + 2 * 5\n",
            "Value:  11  Type:  <class 'int'>\n"
          ]
        }
      ]
    },
    {
      "cell_type": "markdown",
      "metadata": {
        "id": "OLrSUZGpaImk"
      },
      "source": [
        "#### Exercise 4\n",
        "\n",
        "Write a program that uses input to prompt a user for a number and then outputs the square of the number\n",
        "```\n",
        "Enter a number: 3\n",
        "The square of 3 is 9\n",
        "```"
      ]
    },
    {
      "cell_type": "code",
      "source": [
        "number = int(input(\"Enter a Number:\"))\n",
        "\n",
        "square = number * number\n",
        "print(\"The square of \", number,\"is\", square)"
      ],
      "metadata": {
        "colab": {
          "base_uri": "https://localhost:8080/"
        },
        "id": "44gZ1Ms60G3H",
        "outputId": "6b9693ef-7d76-438a-f64f-aa317c7cad30"
      },
      "execution_count": null,
      "outputs": [
        {
          "output_type": "stream",
          "name": "stdout",
          "text": [
            "Enter a Number:3\n",
            "The square of  3 is 9\n"
          ]
        }
      ]
    },
    {
      "cell_type": "markdown",
      "metadata": {
        "id": "KzKCqyNraImk"
      },
      "source": [
        "## CHALLENGE"
      ]
    },
    {
      "cell_type": "markdown",
      "metadata": {
        "id": "g8HA4JjRaIml"
      },
      "source": [
        "Write a program which prompts the user for a Celsius temperature, convert the temperature to Fahrenheit, and print out the converted temperature.\n",
        "\n",
        "[PEW] E2.5"
      ]
    },
    {
      "cell_type": "code",
      "source": [
        "cel = float(input(\"Celcius: \"))\n",
        "fah = float(input(\"Fahrenheit: \"))\n",
        "\n",
        "fah = (9/5 * cel) + 32\n",
        "\n",
        "print(\"Temperature is \", fah)"
      ],
      "metadata": {
        "colab": {
          "base_uri": "https://localhost:8080/"
        },
        "id": "zynU2SQe2R1P",
        "outputId": "f76bab6f-4c2d-4a72-ea32-020491a242ac"
      },
      "execution_count": null,
      "outputs": [
        {
          "output_type": "stream",
          "name": "stdout",
          "text": [
            "Celcius: 23\n",
            "Fahrenheit: 23\n",
            "Temperature is  73.4\n"
          ]
        }
      ]
    }
  ]
}