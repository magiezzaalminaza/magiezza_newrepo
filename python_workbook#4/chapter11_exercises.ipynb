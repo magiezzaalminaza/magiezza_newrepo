{
  "nbformat": 4,
  "nbformat_minor": 0,
  "metadata": {
    "colab": {
      "provenance": []
    },
    "kernelspec": {
      "name": "python3",
      "display_name": "Python 3"
    },
    "language_info": {
      "name": "python"
    }
  },
  "cells": [
    {
      "cell_type": "markdown",
      "metadata": {
        "id": "RVtF1mOOTOIU"
      },
      "source": [
        "#### Exercise 1\n",
        "Adapted from [TCS] Appendix D, Exercise 2\n",
        "\n",
        "Open help for the math module.\n",
        "\n",
        "- What are the constants in the math module?\n",
        "- What's does `math.exp` do? What about `math.pow`?  \n",
        "- How do you calculate logarithms? Logarithms base 10? Natural Logarithms?\n"
      ]
    },
    {
      "cell_type": "code",
      "execution_count": null,
      "metadata": {
        "id": "pJiMq0V__UH8"
      },
      "outputs": [],
      "source": [
        "import mathA"
      ]
    },
    {
      "cell_type": "code",
      "source": [
        "#What are the constants in the math module?\n",
        "print(math.pi)\n",
        "print(math.e)"
      ],
      "metadata": {
        "colab": {
          "base_uri": "https://localhost:8080/"
        },
        "id": "5QujRh8SBs7v",
        "outputId": "dff8b90b-42ea-4ef9-e62e-310d2dc02807"
      },
      "execution_count": null,
      "outputs": [
        {
          "output_type": "stream",
          "name": "stdout",
          "text": [
            "3.141592653589793\n",
            "2.718281828459045\n"
          ]
        }
      ]
    },
    {
      "cell_type": "code",
      "source": [
        "#What does math.exp do? What about math.pow?\n",
        "x = 2\n",
        "answer = math.exp(x)\n",
        "print(answer)\n",
        "# The exponential of x is calculated using the math.exp(x)\n",
        "# function in the math module of Python.\n",
        "# This is the same as raising the value of e (Euler's number, or around 2.71828)\n",
        "# to the power of x."
      ],
      "metadata": {
        "colab": {
          "base_uri": "https://localhost:8080/"
        },
        "id": "jnqLQX8_B28a",
        "outputId": "90357bd9-2dc3-419c-e6ed-42cfd5e820d0"
      },
      "execution_count": null,
      "outputs": [
        {
          "output_type": "stream",
          "name": "stdout",
          "text": [
            "7.38905609893065\n"
          ]
        }
      ]
    },
    {
      "cell_type": "code",
      "source": [
        "#How do you calculate logarithms?\n",
        "\n",
        "help(math.log)\n",
        "x = 5\n",
        "\n",
        "#Logarithms base 10?\n",
        "\n",
        "answer = math.log10(x)\n",
        "print(f\"Logarithm base 10: {answer}\")\n",
        "\n",
        "#Natural Logarithms?\n",
        "\n",
        "answer = math.log(x)\n",
        "print(f\"Natural logarithm: {answer}\")\n"
      ],
      "metadata": {
        "colab": {
          "base_uri": "https://localhost:8080/"
        },
        "id": "E6x90jA0EFKF",
        "outputId": "577fe6dc-f070-40d9-94a8-265a80d035c5"
      },
      "execution_count": null,
      "outputs": [
        {
          "output_type": "stream",
          "name": "stdout",
          "text": [
            "Help on built-in function log in module math:\n",
            "\n",
            "log(...)\n",
            "    log(x, [base=math.e])\n",
            "    Return the logarithm of x to the given base.\n",
            "    \n",
            "    If the base not specified, returns the natural logarithm (base e) of x.\n",
            "\n",
            "Logarithm base 10: 0.6989700043360189\n",
            "Natural logarithm: 1.6094379124341003\n"
          ]
        }
      ]
    },
    {
      "cell_type": "markdown",
      "source": [
        "#### Exercise 2\n",
        "- Create your own module.\n",
        "- Place variables and functions inside it.\n",
        "- Import your module and use the variabls and functions you've created in the module.\n",
        "- Try to add docstrings for the module and the functions\n",
        "\n",
        "[あ]\n"
      ],
      "metadata": {
        "id": "292GElsxDSmt"
      }
    },
    {
      "cell_type": "code",
      "source": [
        "%%writefile mymodule.py\n",
        "\"\"\"\n",
        "My own creation\n",
        "\n",
        "\"\"\"\n",
        "\n",
        "def introduction(name):\n",
        "  \"\"\"\n",
        "  Enter user's name\n",
        "  \"\"\"\n",
        "  print(f\"Hello and Welcome {name}\")\n",
        "\n",
        "\n",
        "def grades(num_list):\n",
        "  \"\"\"\n",
        "  Parameter: A list of grades\n",
        "  Returns: Average of grades\n",
        "  \"\"\"\n",
        "  total = 0\n",
        "  count = 0\n",
        "  for num in num_list:\n",
        "    total += num\n",
        "    count += 1\n",
        "  return(total / count)"
      ],
      "metadata": {
        "colab": {
          "base_uri": "https://localhost:8080/"
        },
        "id": "xYGzFKyVMgmj",
        "outputId": "fba6b729-0fa2-4c85-a78f-1fd38358930b"
      },
      "execution_count": null,
      "outputs": [
        {
          "output_type": "stream",
          "name": "stdout",
          "text": [
            "Writing mymodule.py\n"
          ]
        }
      ]
    },
    {
      "cell_type": "code",
      "source": [
        "!dir mymodule.py"
      ],
      "metadata": {
        "colab": {
          "base_uri": "https://localhost:8080/"
        },
        "id": "RCjCxb3rNtmk",
        "outputId": "3cfc6af5-7ad2-4840-8d65-7c96bbe75a2d"
      },
      "execution_count": null,
      "outputs": [
        {
          "output_type": "stream",
          "name": "stdout",
          "text": [
            "mymodule.py\n"
          ]
        }
      ]
    },
    {
      "cell_type": "code",
      "source": [
        "name = \"Maria giezza\"\n",
        "mymodule.introduction(name)"
      ],
      "metadata": {
        "colab": {
          "base_uri": "https://localhost:8080/"
        },
        "id": "lbpmzG6oN10H",
        "outputId": "740eb5e0-54e0-469f-af10-eee969ae5319"
      },
      "execution_count": null,
      "outputs": [
        {
          "output_type": "stream",
          "name": "stdout",
          "text": [
            "Hello and Welcome John Rey\n"
          ]
        }
      ]
    },
    {
      "cell_type": "code",
      "source": [
        "grades = [97, 90, 95, 98, 90]\n",
        "print(\"Average: \", mymodule.grades(grades))\n"
      ],
      "metadata": {
        "colab": {
          "base_uri": "https://localhost:8080/",
          "height": 166
        },
        "id": "NOnhNMGPOFqt",
        "outputId": "ab7686ab-7b3f-4993-abb5-cee0172cae02"
      },
      "execution_count": null,
      "outputs": [
        {
          "output_type": "error",
          "ename": "NameError",
          "evalue": "name 'mymodule' is not defined",
          "traceback": [
            "\u001b[0;31m---------------------------------------------------------------------------\u001b[0m",
            "\u001b[0;31mNameError\u001b[0m                                 Traceback (most recent call last)",
            "\u001b[0;32m<ipython-input-1-e45941c870d9>\u001b[0m in \u001b[0;36m<cell line: 2>\u001b[0;34m()\u001b[0m\n\u001b[1;32m      1\u001b[0m \u001b[0mgrades\u001b[0m \u001b[0;34m=\u001b[0m \u001b[0;34m[\u001b[0m\u001b[0;36m97\u001b[0m\u001b[0;34m,\u001b[0m \u001b[0;36m90\u001b[0m\u001b[0;34m,\u001b[0m \u001b[0;36m95\u001b[0m\u001b[0;34m,\u001b[0m \u001b[0;36m98\u001b[0m\u001b[0;34m,\u001b[0m \u001b[0;36m90\u001b[0m\u001b[0;34m]\u001b[0m\u001b[0;34m\u001b[0m\u001b[0;34m\u001b[0m\u001b[0m\n\u001b[0;32m----> 2\u001b[0;31m \u001b[0mprint\u001b[0m\u001b[0;34m(\u001b[0m\u001b[0;34m\"Average: \"\u001b[0m\u001b[0;34m,\u001b[0m \u001b[0mmymodule\u001b[0m\u001b[0;34m.\u001b[0m\u001b[0mgrades\u001b[0m\u001b[0;34m(\u001b[0m\u001b[0mgrades\u001b[0m\u001b[0;34m)\u001b[0m\u001b[0;34m)\u001b[0m\u001b[0;34m\u001b[0m\u001b[0;34m\u001b[0m\u001b[0m\n\u001b[0m",
            "\u001b[0;31mNameError\u001b[0m: name 'mymodule' is not defined"
          ]
        }
      ]
    }
  ]
}