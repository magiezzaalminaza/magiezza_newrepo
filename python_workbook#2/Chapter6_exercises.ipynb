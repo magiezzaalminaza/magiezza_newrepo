{
  "nbformat": 4,
  "nbformat_minor": 0,
  "metadata": {
    "colab": {
      "provenance": []
    },
    "kernelspec": {
      "name": "python3",
      "display_name": "Python 3"
    },
    "language_info": {
      "name": "python"
    }
  },
  "cells": [
    {
      "cell_type": "markdown",
      "metadata": {
        "id": "mdWNFspcZJ3F"
      },
      "source": [
        "# CHAPTER 6  - `Strings`"
      ]
    },
    {
      "cell_type": "markdown",
      "metadata": {
        "id": "sNXwbEnKZJ3Z"
      },
      "source": [
        "#### Exercise 1"
      ]
    },
    {
      "cell_type": "markdown",
      "metadata": {
        "id": "8sMdzRTuZJ3Z"
      },
      "source": [
        "Given the code below    \n",
        "\n",
        "    text = 'Business Analytics'\n",
        "\n",
        "What will the following expressions produce?\n",
        "    \n",
        "    text[4]\n",
        "    text[2:4]\n",
        "    text[:4]\n",
        "    text[4:]\n",
        "    text[-2]\n",
        "    text[-4:-2]\n",
        "    text[-2:]\n",
        "    text[:-2]\n",
        "    "
      ]
    },
    {
      "cell_type": "code",
      "source": [
        "text = 'Business Analytics'\n",
        "print(text[4])\n",
        "print(text[2:4])\n",
        "print(text[:4])\n",
        "print(text[4:])\n",
        "print(text[-2])\n",
        "print(text[-4:-2])\n",
        "print(text[-2:])\n",
        "print(text[:-2])"
      ],
      "metadata": {
        "colab": {
          "base_uri": "https://localhost:8080/"
        },
        "id": "82yIpW0utqvu",
        "outputId": "bb004e24-e3a5-45d3-f188-65af9a9a21e0"
      },
      "execution_count": null,
      "outputs": [
        {
          "output_type": "stream",
          "name": "stdout",
          "text": [
            "n\n",
            "si\n",
            "Busi\n",
            "ness Analytics\n",
            "c\n",
            "ti\n",
            "cs\n",
            "Business Analyti\n"
          ]
        }
      ]
    },
    {
      "cell_type": "markdown",
      "metadata": {
        "id": "9YuOcvKvZJ3Z"
      },
      "source": [
        "#### Exercise 2"
      ]
    },
    {
      "cell_type": "code",
      "source": [
        "phrase = 'One Ring to rule them all'\n",
        "print(phrase[0:4])\n",
        "print(phrase[5:9])\n",
        "print(phrase[19:22])\n",
        "print(phrase[14:18])\n",
        "print(phrase)\n",
        "print(phrase[0:23])"
      ],
      "metadata": {
        "colab": {
          "base_uri": "https://localhost:8080/"
        },
        "id": "Qh9XCnbPxAdc",
        "outputId": "a6b9a89d-436d-4844-8cae-7ac0333be86a"
      },
      "execution_count": null,
      "outputs": [
        {
          "output_type": "stream",
          "name": "stdout",
          "text": [
            "One \n",
            "ing \n",
            "em \n",
            "le t\n",
            "One Ring to rule them all\n",
            "One Ring to rule them a\n"
          ]
        }
      ]
    },
    {
      "cell_type": "markdown",
      "metadata": {
        "id": "46mzWqT7ZJ3Z"
      },
      "source": [
        "\n",
        "## CHALLENGE\n"
      ]
    },
    {
      "cell_type": "markdown",
      "metadata": {
        "id": "5nMGk65LZJ3Z"
      },
      "source": [
        "Write a program which repeatedly reads a **full name**, then does the following:\n",
        "- strips the name of any trailing spaces\n",
        "- capitalizes the first letter\n",
        "- puts the rest into smaller letters\n"
      ]
    },
    {
      "cell_type": "markdown",
      "metadata": {
        "id": "T9Uy9X3rZJ3Z"
      },
      "source": [
        "[TABLE OF CONTENTS](#contents)"
      ]
    },
    {
      "cell_type": "markdown",
      "metadata": {
        "id": "MhTp-IHcZJ3Z"
      },
      "source": [
        "<a id='chapter8'></a>"
      ]
    },
    {
      "cell_type": "code",
      "source": [
        "while True:\n",
        "    full_name = input(\"Enter your full name: \")\n",
        "    full_name = full_name.strip()\n",
        "    first_name = full_name.split()[0]\n",
        "    last_name = full_name.split()[-1]\n",
        "    first_name = first_name.capitalize()\n",
        "    last_name = last_name.capitalize()\n",
        "    rest_of_name = ' '.join(full_name.split()[1:-1]).lower()\n",
        "    print(f\"Your name with the first letter capitalized and the rest in smaller letters is: {first_name} {rest_of_name} {last_name}\")"
      ],
      "metadata": {
        "id": "CDsZQTWLxe-u"
      },
      "execution_count": null,
      "outputs": []
    }
  ]
}