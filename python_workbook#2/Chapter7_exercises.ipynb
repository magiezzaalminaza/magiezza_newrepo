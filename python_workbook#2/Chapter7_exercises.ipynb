{
  "nbformat": 4,
  "nbformat_minor": 0,
  "metadata": {
    "colab": {
      "provenance": []
    },
    "kernelspec": {
      "name": "python3",
      "display_name": "Python 3"
    },
    "language_info": {
      "name": "python"
    }
  },
  "cells": [
    {
      "cell_type": "markdown",
      "metadata": {
        "id": "k3W5OHvVZJ3a"
      },
      "source": [
        "# CHAPTER  7 - Files"
      ]
    },
    {
      "cell_type": "markdown",
      "metadata": {
        "id": "wfbu5PLOZJ3d"
      },
      "source": [
        "## EXERCISES\n",
        "\n",
        "**Instructions**\n",
        "+ Create a new folder for each workbook (Example: Folder name = PythonWorkBook#2).\n",
        "  * Each folder will contain the notebooks for each chapter exercises including the challenges.\n",
        "\n",
        "+ The notebook name should indicate the chapter where it belongs. (Example: Chapter6_exercises)\n",
        "\n",
        "* Create a new notebook for each chapter-exercises\n",
        "\n",
        "+ Push the folder to your GitHub repo\n",
        "\n",
        "*Reminder*: Do not delete the file, and reupload to the GitHub. Push the updates back using `git` commands"
      ]
    },
    {
      "cell_type": "markdown",
      "metadata": {
        "id": "K71flKalZJ3d"
      },
      "source": [
        "#### Exercise 1  "
      ]
    },
    {
      "cell_type": "code",
      "source": [
        "filename = input(\"Enter the filename: \")\n",
        "\n",
        "try:\n",
        "    with open(filename, 'r') as f:\n",
        "        for line in f:\n",
        "            print(line.upper())\n",
        "except FileNotFoundError:\n",
        "    print(filename + \" does not exist.\")"
      ],
      "metadata": {
        "colab": {
          "base_uri": "https://localhost:8080/"
        },
        "id": "41f5YbtkgADd",
        "outputId": "cd09a340-4c0f-41cd-8e77-4718bd2e47a1"
      },
      "execution_count": null,
      "outputs": [
        {
          "output_type": "stream",
          "name": "stdout",
          "text": [
            "Enter the filename: hh\n",
            "hh does not exist.\n"
          ]
        }
      ]
    },
    {
      "cell_type": "markdown",
      "metadata": {
        "id": "A6Kp8hHjZJ3e"
      },
      "source": [
        "#### Exercise 2  "
      ]
    },
    {
      "cell_type": "markdown",
      "metadata": {
        "id": "3okQdFXUZJ3e"
      },
      "source": [
        "`Write a program to read through a file and output the number of lines in a file.`\n",
        "\n",
        "adapted from [PEW]"
      ]
    },
    {
      "cell_type": "code",
      "source": [
        "filename = input(\"Enter the filename: \")\n",
        "\n",
        "try:\n",
        "    with open(filename, 'r') as f:\n",
        "        lines = f.readlines()\n",
        "        num_lines = len(lines)\n",
        "        print(\"The file has\", num_lines, \"lines.\")\n",
        "except FileNotFoundError:\n",
        "    print(filename + \" does not exist.\")"
      ],
      "metadata": {
        "id": "oOh3gG_5gl7t"
      },
      "execution_count": null,
      "outputs": []
    },
    {
      "cell_type": "markdown",
      "metadata": {
        "id": "AxnUg53RZJ3e"
      },
      "source": [
        "## CHALLENGE\n",
        "\n",
        "from [PEW] E8-2"
      ]
    },
    {
      "cell_type": "markdown",
      "metadata": {
        "id": "kCpGgqiSZJ3e"
      },
      "source": [
        "Write a program to prompt for a file name, and then read through the file and look for lines of the form:"
      ]
    },
    {
      "cell_type": "code",
      "source": [
        "filename = input(\"Enter the filename: \")\n",
        "\n",
        "try:\n",
        "    with open(filename, 'r') as f:\n",
        "        for line in f:\n",
        "            if \"Unsupported Cell Type. Double-Click to inspect/edit the content.\" in line:\n",
        "                print(\"Found unsupported cell type on line:\", f.line_num)\n",
        "except FileNotFoundError:\n",
        "    print(filename + \" does not exist.\")"
      ],
      "metadata": {
        "colab": {
          "base_uri": "https://localhost:8080/"
        },
        "id": "4UPamRm5i7nf",
        "outputId": "a90a9f96-5efb-4fd3-fe7e-eeab2f8eb554"
      },
      "execution_count": null,
      "outputs": [
        {
          "output_type": "stream",
          "name": "stdout",
          "text": [
            "Enter the filename: hh\n",
            "hh does not exist.\n"
          ]
        }
      ]
    }
  ]
}